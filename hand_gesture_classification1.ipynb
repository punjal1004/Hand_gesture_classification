{
  "cells": [
    {
      "cell_type": "code",
      "execution_count": null,
      "metadata": {
        "colab": {
          "base_uri": "https://localhost:8080/"
        },
        "id": "3i1l6ta5NUmU",
        "outputId": "06d2a4e1-2a47-4d41-ff41-1a80f397aa58"
      },
      "outputs": [
        {
          "output_type": "stream",
          "name": "stdout",
          "text": [
            "Drive already mounted at /content/gdrive; to attempt to forcibly remount, call drive.mount(\"/content/gdrive\", force_remount=True).\n"
          ]
        }
      ],
      "source": [
        "from google.colab import drive\n",
        "drive.mount(\"/content/gdrive\")"
      ]
    },
    {
      "cell_type": "code",
      "execution_count": null,
      "metadata": {
        "colab": {
          "background_save": true
        },
        "id": "DUoQ2s8aNaVb"
      },
      "outputs": [],
      "source": [
        "import pandas as pd\n",
        "import numpy as np\n",
        "import matplotlib as plt"
      ]
    },
    {
      "cell_type": "code",
      "execution_count": null,
      "metadata": {
        "colab": {
          "background_save": true
        },
        "id": "Eot9UkaHNe-D"
      },
      "outputs": [],
      "source": [
        "import keras"
      ]
    },
    {
      "cell_type": "code",
      "execution_count": null,
      "metadata": {
        "colab": {
          "background_save": true
        },
        "id": "5bV5cucuNkhW"
      },
      "outputs": [],
      "source": [
        "from keras.models import Sequential\n",
        "from keras.layers import Convolution2D\n",
        "from keras.layers import MaxPooling2D\n",
        "from keras.layers import Flatten\n",
        "from keras.layers import Dense\n",
        "from keras import regularizers\n",
        "from keras.layers import Dropout\n",
        "from keras.callbacks import ModelCheckpoint\n",
        "import pandas_profiling\n",
        "from tensorflow.keras.callbacks import EarlyStopping\n",
        "early_stopping = EarlyStopping()"
      ]
    },
    {
      "cell_type": "code",
      "execution_count": null,
      "metadata": {
        "colab": {
          "background_save": true
        },
        "id": "aAHhbHB5Nvlj"
      },
      "outputs": [],
      "source": [
        "from keras.preprocessing.image import ImageDataGenerator\n",
        "from PIL import Image"
      ]
    },
    {
      "cell_type": "code",
      "execution_count": null,
      "metadata": {
        "colab": {
          "background_save": true
        },
        "id": "-rprgzj5NxLi"
      },
      "outputs": [],
      "source": [
        "train_datagen = ImageDataGenerator(rescale=1./255,\n",
        "                                  shear_range=0.2,\n",
        "                                  zoom_range=0.2,\n",
        "                                  horizontal_flip=True)"
      ]
    },
    {
      "cell_type": "code",
      "execution_count": null,
      "metadata": {
        "colab": {
          "background_save": true
        },
        "id": "M-c-FnB7OAaM"
      },
      "outputs": [],
      "source": [
        "test_datagen = ImageDataGenerator(rescale=1./255)"
      ]
    },
    {
      "cell_type": "code",
      "execution_count": null,
      "metadata": {
        "colab": {
          "background_save": true
        },
        "id": "EtsqiM0dPIuo"
      },
      "outputs": [],
      "source": [
        "training_set = train_datagen.flow_from_directory('/content/gdrive/MyDrive/Dataset/Data/train',\n",
        "                                                 target_size=(256, 256),\n",
        "                                                 batch_size= 64,\n",
        "                                                 class_mode='categorical')"
      ]
    },
    {
      "cell_type": "code",
      "execution_count": null,
      "metadata": {
        "colab": {
          "background_save": true
        },
        "id": "DIbX6GwhPVVa"
      },
      "outputs": [],
      "source": [
        "test_set = test_datagen.flow_from_directory('/content/gdrive/MyDrive/Dataset/Data/valid',\n",
        "                                                        target_size = (256, 256),\n",
        "                                                        batch_size = 64,\n",
        "                                                        class_mode = 'categorical')"
      ]
    },
    {
      "cell_type": "code",
      "execution_count": null,
      "metadata": {
        "colab": {
          "background_save": true
        },
        "id": "yc9J6GB-Rase"
      },
      "outputs": [],
      "source": [
        "classifier = Sequential()\n",
        "#Creating the method for model\n",
        "#Step 1- Convolution\n",
        "classifier.add(Convolution2D(128, (3, 3), input_shape = (256, 256,3), activation = 'relu'))\n",
        "\n",
        "#adding another layer\n",
        "classifier.add(Convolution2D(64, (3, 3), activation = 'relu'))\n",
        "\n",
        "#Max pooling it\n",
        "classifier.add(MaxPooling2D(pool_size = (2, 2)))\n",
        "\n",
        "#Adding another layer\n",
        "classifier.add(Convolution2D(32, (3, 3), activation = 'relu'))\n",
        "\n",
        "\n",
        "#Pooling\n",
        "classifier.add(MaxPooling2D(pool_size = (2, 2)))\n",
        "\n",
        "#Adding another layer\n",
        "classifier.add(Convolution2D(32, (3, 3), activation = 'relu'))\n",
        "\n",
        "\n",
        "#Pooling\n",
        "classifier.add(MaxPooling2D(pool_size = (2, 2)))\n"
      ]
    },
    {
      "cell_type": "code",
      "execution_count": null,
      "metadata": {
        "colab": {
          "background_save": true
        },
        "id": "GZRiL_fNRkcc"
      },
      "outputs": [],
      "source": [
        "#Step 3- Flattening\n",
        "classifier.add(Flatten())\n",
        "\n",
        "#Step 4- Full connection\n",
        "classifier.add(Dense(units = 128, activation = 'relu'))\n",
        "\n",
        "#For the output step\n",
        "classifier.add(Dense(units = 4, activation = 'softmax'))\n",
        "classifier.add(Dropout(0.01))"
      ]
    },
    {
      "cell_type": "code",
      "execution_count": null,
      "metadata": {
        "colab": {
          "background_save": true
        },
        "id": "7UukQhlZRoyc"
      },
      "outputs": [],
      "source": [
        "classifier.compile(optimizer = 'adam',loss = 'categorical_crossentropy', metrics = ['accuracy'])"
      ]
    },
    {
      "cell_type": "code",
      "execution_count": null,
      "metadata": {
        "colab": {
          "base_uri": "https://localhost:8080/"
        },
        "id": "2WQFv0QxR0Mv",
        "outputId": "ccdc5392-e27a-4318-e28c-43193cf9a146"
      },
      "outputs": [
        {
          "output_type": "stream",
          "name": "stdout",
          "text": [
            "WARNING:tensorflow:`period` argument is deprecated. Please use `save_freq` to specify the frequency in number of batches seen.\n"
          ]
        },
        {
          "output_type": "stream",
          "name": "stderr",
          "text": [
            "/usr/local/lib/python3.7/dist-packages/ipykernel_launcher.py:8: UserWarning: `Model.fit_generator` is deprecated and will be removed in a future version. Please use `Model.fit`, which supports generators.\n",
            "  \n"
          ]
        },
        {
          "output_type": "stream",
          "name": "stdout",
          "text": [
            "Epoch 1/5\n",
            "25/25 [==============================] - 1049s 42s/step - loss: 1.5226 - accuracy: 0.3156 - val_loss: 1.2250 - val_accuracy: 0.4694\n",
            "Epoch 2/5\n",
            "25/25 [==============================] - 410s 16s/step - loss: 1.4185 - accuracy: 0.3725 - val_loss: 1.0124 - val_accuracy: 0.4800\n",
            "Epoch 3/5\n",
            "25/25 [==============================] - 310s 12s/step - loss: 1.3588 - accuracy: 0.3913 - val_loss: 1.2150 - val_accuracy: 0.2931\n",
            "Epoch 4/5\n",
            "25/25 [==============================] - 194s 8s/step - loss: 1.2782 - accuracy: 0.4825 - val_loss: 0.8699 - val_accuracy: 0.4913\n",
            "Epoch 5/5\n",
            "25/25 [==============================] - 150s 6s/step - loss: 1.1547 - accuracy: 0.5487 - val_loss: 0.6276 - val_accuracy: 0.6369\n"
          ]
        }
      ],
      "source": [
        "\n",
        "checkpointer = keras.callbacks.ModelCheckpoint(filepath = 'D:/Fall 18/Neural Networks/Project/Dataset for Tensorflow/checkp.hdf5', monitor='val_acc', verbose=0, save_best_only=False, save_weights_only=False, mode='auto', period=1)\n",
        "\n",
        "plot_compare_1 = classifier.fit_generator(training_set,\n",
        "                    steps_per_epoch=(1600/64),\n",
        "                    epochs = 5,\n",
        "                    validation_data=test_set,\n",
        "                    validation_steps=(1600/64), callbacks = [checkpointer])"
      ]
    },
    {
      "cell_type": "code",
      "execution_count": null,
      "metadata": {
        "colab": {
          "base_uri": "https://localhost:8080/"
        },
        "id": "qfByFxXEY0xN",
        "outputId": "2bfdfb6d-c46d-48b4-d7c2-5e6cc195b449"
      },
      "outputs": [
        {
          "output_type": "stream",
          "name": "stdout",
          "text": [
            "Model: \"sequential\"\n",
            "_________________________________________________________________\n",
            " Layer (type)                Output Shape              Param #   \n",
            "=================================================================\n",
            " conv2d (Conv2D)             (None, 254, 254, 128)     3584      \n",
            "                                                                 \n",
            " conv2d_1 (Conv2D)           (None, 252, 252, 64)      73792     \n",
            "                                                                 \n",
            " max_pooling2d (MaxPooling2D  (None, 126, 126, 64)     0         \n",
            " )                                                               \n",
            "                                                                 \n",
            " conv2d_2 (Conv2D)           (None, 124, 124, 32)      18464     \n",
            "                                                                 \n",
            " max_pooling2d_1 (MaxPooling  (None, 62, 62, 32)       0         \n",
            " 2D)                                                             \n",
            "                                                                 \n",
            " conv2d_3 (Conv2D)           (None, 60, 60, 32)        9248      \n",
            "                                                                 \n",
            " max_pooling2d_2 (MaxPooling  (None, 30, 30, 32)       0         \n",
            " 2D)                                                             \n",
            "                                                                 \n",
            " flatten (Flatten)           (None, 28800)             0         \n",
            "                                                                 \n",
            " dense (Dense)               (None, 128)               3686528   \n",
            "                                                                 \n",
            " dense_1 (Dense)             (None, 4)                 516       \n",
            "                                                                 \n",
            " dropout (Dropout)           (None, 4)                 0         \n",
            "                                                                 \n",
            "=================================================================\n",
            "Total params: 3,792,132\n",
            "Trainable params: 3,792,132\n",
            "Non-trainable params: 0\n",
            "_________________________________________________________________\n"
          ]
        }
      ],
      "source": [
        "classifier.summary()"
      ]
    },
    {
      "cell_type": "code",
      "execution_count": null,
      "metadata": {
        "colab": {
          "base_uri": "https://localhost:8080/",
          "height": 295
        },
        "id": "rd2F12ZPZElR",
        "outputId": "93184999-022e-4739-af0d-0035f6f72538"
      },
      "outputs": [
        {
          "output_type": "display_data",
          "data": {
            "text/plain": [
              "<Figure size 432x288 with 1 Axes>"
            ],
            "image/png": "[encoded data removed]"
          },
          "metadata": {
            "needs_background": "light"
          }
        }
      ],
      "source": [
        "import matplotlib.pyplot as pllt\n",
        "%matplotlib inline\n",
        "pllt.plot(plot_compare_1.history['val_accuracy'])\n",
        "pllt.plot(plot_compare_1.history['val_loss'])\n",
        "pllt.title('Comparison of val_accuracy and val_loss')\n",
        "pllt.ylabel('Accuracy %')\n",
        "pllt.xlabel('Number of epoch')\n",
        "pllt.legend(['val_accuracy', 'val_loss'])\n",
        "pllt.show()"
      ]
    },
    {
      "cell_type": "code",
      "execution_count": null,
      "metadata": {
        "colab": {
          "base_uri": "https://localhost:8080/",
          "height": 295
        },
        "id": "O99dGAHtZ7aM",
        "outputId": "81643d7e-637b-4748-db96-978a7b0bf9f0"
      },
      "outputs": [
        {
          "output_type": "display_data",
          "data": {
            "text/plain": [
              "<Figure size 432x288 with 1 Axes>"
            ],
            "image/png": "[encoded data removed]"
          },
          "metadata": {
            "needs_background": "light"
          }
        }
      ],
      "source": [
        "import matplotlib.pyplot as pllt\n",
        "%matplotlib inline\n",
        "pllt.plot(plot_compare_1.history['accuracy'])\n",
        "pllt.plot(plot_compare_1.history['loss'])\n",
        "pllt.title('Comparison of accuracy and loss')\n",
        "pllt.ylabel('Accuracy %')\n",
        "pllt.xlabel('Number of epoch')\n",
        "pllt.legend(['accuracy', 'loss'])\n",
        "pllt.show()"
      ]
    }
  ],
  "metadata": {
    "accelerator": "GPU",
    "colab": {
      "collapsed_sections": [],
      "name": "hand_gesture_classification1.ipynb",
      "provenance": []
    },
    "kernelspec": {
      "display_name": "Python 3",
      "name": "python3"
    },
    "language_info": {
      "name": "python"
    }
  },
  "nbformat": 4,
  "nbformat_minor": 0
}